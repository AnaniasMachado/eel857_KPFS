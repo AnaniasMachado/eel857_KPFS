{
 "cells": [
  {
   "cell_type": "markdown",
   "metadata": {},
   "source": [
    "# CSV To Latex"
   ]
  },
  {
   "cell_type": "markdown",
   "metadata": {},
   "source": [
    "**Objective:** Convert a csv file to latex code of a table."
   ]
  },
  {
   "cell_type": "markdown",
   "metadata": {},
   "source": [
    "**Referência de tabela:**\n",
    "\n",
    "\n",
    "\"\\begin{table}[h] \\\n",
    "    \\centering \\\n",
    "    \\begin{tabular}{|c|c|c|} \\\n",
    "        \\hline \\\n",
    "        \\textbf{Nome} & \\textbf{Idade} & \\textbf{Cidade} \\\\ \\\n",
    "        \\hline \\\n",
    "        João & 28 & São Paulo \\\\ \\\n",
    "        Maria & 32 & Rio de Janeiro \\\\ \\\n",
    "        Pedro & 25 & Belo Horizonte \\\\ \\\n",
    "        \\hline \\\n",
    "    \\end{tabular} \\\n",
    "    \\caption{Tabela Simples} \\\n",
    "    \\label{tab:simple} \\\n",
    "\\end{table}\""
   ]
  },
  {
   "cell_type": "code",
   "execution_count": 1,
   "metadata": {},
   "outputs": [],
   "source": [
    "import pandas as pd"
   ]
  },
  {
   "cell_type": "code",
   "execution_count": 2,
   "metadata": {},
   "outputs": [],
   "source": [
    "def csv_to_latex(df, column_names, table_title, table_legend):\n",
    "    \n",
    "    # Select the specified columns\n",
    "    selected_df = df.loc[:, column_names]\n",
    "    \n",
    "    # Creates a Latex string\n",
    "    latex_str = \"\\\\begin{table}[h]\\n\"\n",
    "    latex_str += \"    \\\\centering\"\n",
    "    latex_str += \"    \\\\begin{tabular}{|\" + \"|\".join([\"c\"] * selected_df.shape[1]) + \"|}\\n\"\n",
    "    latex_str += \"        \\\\hline\"\n",
    "    \n",
    "    # Adds header\n",
    "    latex_str += \"        \" + \" & \".join(selected_df.columns) + \" \\\\\\\\\\n\"\n",
    "    latex_str += \"        \\\\hline\"\n",
    "    \n",
    "    # Adds data\n",
    "    for index, row in selected_df.iterrows():\n",
    "        latex_str += \"        \" + \" & \".join(map(str, row.values)) + \" \\\\\\\\\\n\"\n",
    "    \n",
    "    # Adds tail\n",
    "    latex_str += \"        \\\\hline\"\n",
    "    latex_str += \"    \\\\end{tabular}\\n\"\n",
    "    latex_str += f\"    \\\\caption{{{table_legend}}}\\n\"\n",
    "    latex_str += f\"    \\\\label{{tab:{table_title}}}\\n\"\n",
    "    latex_str += \"\\\\end{table}\\n\"\n",
    "    \n",
    "    return latex_str\n"
   ]
  },
  {
   "cell_type": "code",
   "execution_count": 3,
   "metadata": {},
   "outputs": [
    {
     "name": "stdout",
     "output_type": "stream",
     "text": [
      "Index(['1', 'C', '300', '605.400', '12.741', '22.281', '41.452'], dtype='object')\n",
      "\\begin{table}[h]\n",
      "    \\centering    \\begin{tabular}{|c|c|c|c|c|c|c|}\n",
      "        \\hline        1 & C & 300 & 605.400 & 12.741 & 22.281 & 41.452 \\\\\n",
      "        \\hline        1 & C & 500 & 783.222 & 7.298 & 636.467 & 22.925 \\\\\n",
      "        1 & C & 700 & 665.4 & 4.585 & 1927.927 & 29.2 \\\\\n",
      "        1 & C & 800 & 615.4 & 6.603 & 2945.088 & 33.411 \\\\\n",
      "        1 & C & 1000 & 509.8 & 7.329 & 11807.917 & 82.718 \\\\\n",
      "        1 & FC & 300 & 624.9 & 15.818 & 89.808 & 61.155 \\\\\n",
      "        1 & FC & 500 & 770.4 & 4.82 & 1322.092 & 61.591 \\\\\n",
      "        1 & FC & 700 & 714.9 & 3.019 & 5032.097 & 33.144 \\\\\n",
      "        1 & FC & 800 & 690.9 & 5.105 & 7814.56 & 46.324 \\\\\n",
      "        1 & FC & 1000 & 660.333 & 4.152 & 13448.343 & 46.531 \\\\\n",
      "        1 & NC & 300 & 563.3 & 20.463 & 21.874 & 46.221 \\\\\n",
      "        1 & NC & 500 & 520.3 & 3.547 & 1641.4 & 54.077 \\\\\n",
      "        1 & NC & 700 & 428.0 & 2.643 & 4753.599 & 23.844 \\\\\n",
      "        2 & C & 300 & 396.8 & 4.879 & 10.299 & 37.743 \\\\\n",
      "        2 & C & 500 & 304.9 & 8.623 & 432.096 & 51.335 \\\\\n",
      "        2 & C & 700 & 221.7 & 12.522 & 1063.9 & 23.729 \\\\\n",
      "        2 & C & 800 & 199.4 & 14.806 & 1878.087 & 50.725 \\\\\n",
      "        2 & C & 1000 & 169.0 & 6.838 & 3268.743 & 45.644 \\\\\n",
      "        2 & FC & 300 & 442.2 & 4.034 & 23.156 & 58.894 \\\\\n",
      "        2 & FC & 500 & 420.4 & 7.231 & 667.247 & 42.637 \\\\\n",
      "        2 & FC & 700 & 405.7 & 5.26 & 1770.954 & 30.307 \\\\\n",
      "        2 & FC & 800 & 395.8 & 4.219 & 2763.655 & 48.738 \\\\\n",
      "        2 & FC & 1000 & 406.0 & 3.596 & 7007.139 & 34.727 \\\\\n",
      "        2 & NC & 300 & 256.7 & 8.69 & 9.717 & 43.344 \\\\\n",
      "        2 & NC & 500 & 196.5 & 6.908 & 170.997 & 73.079 \\\\\n",
      "        2 & NC & 700 & 142.6 & 11.347 & 584.929 & 53.053 \\\\\n",
      "        2 & NC & 800 & 137.1 & 11.286 & 1358.868 & 50.242 \\\\\n",
      "        2 & NC & 1000 & 105.2 & 14.663 & 2068.982 & 44.514 \\\\\n",
      "        3 & C & 300 & 828.8 & 20.723 & 91.138 & 56.718 \\\\\n",
      "        3 & C & 500 & 1009.9 & 11.404 & 879.748 & 32.419 \\\\\n",
      "        3 & C & 700 & 1309.0 & 17.185 & 5453.703 & 31.405 \\\\\n",
      "        3 & C & 800 & 1404.9 & 19.085 & 8260.584 & 49.683 \\\\\n",
      "        3 & C & 1000 & 1639.167 & 24.934 & 18332.526 & 23.764 \\\\\n",
      "        3 & NC & 300 & 524.6 & 22.636 & 17.588 & 20.642 \\\\\n",
      "        3 & NC & 500 & 972.2 & 27.673 & 1719.589 & 78.683 \\\\\n",
      "        4 & C & 300 & 677.6 & 14.549 & 15.715 & 28.697 \\\\\n",
      "        4 & C & 500 & 868.8 & 20.941 & 723.096 & 24.693 \\\\\n",
      "        4 & C & 700 & 1184.3 & 24.264 & 2380.081 & 32.487 \\\\\n",
      "        4 & C & 800 & 1482.2 & 21.408 & 4558.388 & 46.693 \\\\\n",
      "        4 & C & 1000 & 1992.4 & 2.839 & 13900.306 & 39.529 \\\\\n",
      "        4 & NC & 300 & 559.6 & 30.593 & 9.361 & 44.89 \\\\\n",
      "        4 & NC & 500 & 1032.5 & 15.804 & 1010.011 & 46.261 \\\\\n",
      "        4 & NC & 700 & 1332.0 & 5.852 & 4885.013 & 17.121 \\\\\n",
      "        \\hline    \\end{tabular}\n",
      "    \\caption{Tabela Simples}\n",
      "    \\label{tab:simples}\n",
      "\\end{table}\n",
      "\n"
     ]
    }
   ],
   "source": [
    "# df = pd.read_excel(\"./results_2_GRB_DF.xlsx\", skiprows=1)\n",
    "df = pd.read_csv(\"./Julia/results_ILS.csv\", skiprows=1)\n",
    "df_rounded = df.round(3)\n",
    "\n",
    "print(df.columns)\n",
    "\n",
    "# problems = [\"1_norm_P1_P3_P4\", \"1_norm_PLS_P4\", \"1_norm_PMN_P3\", \"1_norm_PMX\", \"1_norm_admm\", \"1_norm_admme\"]\n",
    "\n",
    "# desired_result_columns = [\"||H||_1\" , \"||H||_0\", \"||H||_2,1\", \"||H||_2,0\", \"Computational_Time(s)\", \"Memory_Used(MiB)\"]\n",
    "\n",
    "# result_column_names = []\n",
    "# for problem in problems:\n",
    "#     for column_name in desired_result_columns:\n",
    "#         result_column_names.append(f\"{problem}_{column_name}\")\n",
    "\n",
    "# column_names = [\"m\", \"n\", \"r\"] + result_column_names[30:36]\n",
    "# column_names = [\"m\", \"n\", \"r\", \"||H||_0\", \"||H||_1\", \"r(H)\", \"time(s)\", \"time2(s)\"]\n",
    "column_names = df.columns\n",
    "table_title = 'simples'\n",
    "table_legend = 'Tabela Simples'\n",
    "\n",
    "latex_code = csv_to_latex(df_rounded, column_names, table_title, table_legend)\n",
    "print(latex_code)"
   ]
  }
 ],
 "metadata": {
  "kernelspec": {
   "display_name": "General_Work_Kernel",
   "language": "python",
   "name": "general_work_kernel"
  },
  "language_info": {
   "codemirror_mode": {
    "name": "ipython",
    "version": 3
   },
   "file_extension": ".py",
   "mimetype": "text/x-python",
   "name": "python",
   "nbconvert_exporter": "python",
   "pygments_lexer": "ipython3",
   "version": "3.11.5"
  }
 },
 "nbformat": 4,
 "nbformat_minor": 2
}
